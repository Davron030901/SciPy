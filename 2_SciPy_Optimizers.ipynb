{
  "nbformat": 4,
  "nbformat_minor": 0,
  "metadata": {
    "colab": {
      "provenance": [],
      "authorship_tag": "ABX9TyM9h+Qaqib/m51XEjoSrMZt",
      "include_colab_link": true
    },
    "kernelspec": {
      "name": "python3",
      "display_name": "Python 3"
    },
    "language_info": {
      "name": "python"
    }
  },
  "cells": [
    {
      "cell_type": "markdown",
      "metadata": {
        "id": "view-in-github",
        "colab_type": "text"
      },
      "source": [
        "<a href=\"https://colab.research.google.com/github/Davron030901/SciPy/blob/main/2_SciPy_Optimizers.ipynb\" target=\"_parent\"><img src=\"https://colab.research.google.com/assets/colab-badge.svg\" alt=\"Open In Colab\"/></a>"
      ]
    },
    {
      "cell_type": "markdown",
      "source": [
        "***SciPy Optimizers***"
      ],
      "metadata": {
        "id": "BLURJJ6Jz1H5"
      }
    },
    {
      "cell_type": "markdown",
      "source": [
        "Optimizers are a set of procedures defined in SciPy that either find the minimum value of a function, or the root of an equation."
      ],
      "metadata": {
        "id": "S5_LhhfG0DrR"
      }
    },
    {
      "cell_type": "markdown",
      "source": [
        "*Optimizing Functions*\n",
        "\n",
        "Essentially, all of the algorithms in Machine Learning are nothing more than a complex equation that needs to be minimized with the help of given data."
      ],
      "metadata": {
        "id": "XCFZSByR0JiP"
      }
    },
    {
      "cell_type": "markdown",
      "source": [
        "**Roots of an Equation**\n",
        "NumPy is capable of finding roots for polynomials and linear equations, but it can not find roots for non linear equations, like this one:\n",
        "\n",
        "*x + cos(x)*\n",
        "\n",
        "For that you can use SciPy's optimize.root function.\n",
        "\n",
        "This function takes two required arguments:\n",
        "\n",
        "*fun* - a function representing an equation.\n",
        "\n",
        "*x0* - an initial guess for the root.\n",
        "\n",
        "The function returns an object with information regarding the solution.\n",
        "\n",
        "The actual solution is given under attribute x of the returned object:"
      ],
      "metadata": {
        "id": "0vMrd-v20Q8E"
      }
    },
    {
      "cell_type": "code",
      "execution_count": 2,
      "metadata": {
        "colab": {
          "base_uri": "https://localhost:8080/"
        },
        "id": "b_PwFV51zpzp",
        "outputId": "f8145c90-7c22-4e15-ca98-4a3c2a13ad11"
      },
      "outputs": [
        {
          "output_type": "stream",
          "name": "stdout",
          "text": [
            "[-0.73908513]\n"
          ]
        },
        {
          "output_type": "stream",
          "name": "stderr",
          "text": [
            "<ipython-input-2-fe8d06d47cbb>:5: DeprecationWarning: Conversion of an array with ndim > 0 to a scalar is deprecated, and will error in future. Ensure you extract a single element from your array before performing this operation. (Deprecated NumPy 1.25.)\n",
            "  return x + cos(x)\n"
          ]
        }
      ],
      "source": [
        "from scipy.optimize import root\n",
        "from math import cos\n",
        "\n",
        "def eqn(x):\n",
        "  return x + cos(x)\n",
        "\n",
        "myroot = root(eqn, 0)\n",
        "\n",
        "print(myroot.x)"
      ]
    },
    {
      "cell_type": "markdown",
      "source": [
        "Note: The returned object has much more information about the solution."
      ],
      "metadata": {
        "id": "5GRJznkF1H27"
      }
    },
    {
      "cell_type": "code",
      "source": [
        "print(myroot)"
      ],
      "metadata": {
        "colab": {
          "base_uri": "https://localhost:8080/"
        },
        "id": "gjSJLrPK04uP",
        "outputId": "d27f2a16-545d-477a-96f6-d36d2fd6d25b"
      },
      "execution_count": 3,
      "outputs": [
        {
          "output_type": "stream",
          "name": "stdout",
          "text": [
            " message: The solution converged.\n",
            " success: True\n",
            "  status: 1\n",
            "     fun: [ 0.000e+00]\n",
            "       x: [-7.391e-01]\n",
            "  method: hybr\n",
            "    nfev: 9\n",
            "    fjac: [[-1.000e+00]]\n",
            "       r: [-1.674e+00]\n",
            "     qtf: [-2.668e-13]\n"
          ]
        }
      ]
    },
    {
      "cell_type": "markdown",
      "source": [
        "*Minimizing a Function*\n",
        "\n",
        "A function, in this context, represents a curve, curves have *high points* and *low points*.\n",
        "\n",
        "High points are called *maxima*.\n",
        "\n",
        "Low points are called *minima*.\n",
        "\n",
        "The highest point in the whole curve is called global maxima, whereas the rest of them are called local maxima.\n",
        "\n",
        "The lowest point in whole curve is called global *minima*, whereas the rest of them are called local *minima*.\n",
        "\n",
        "*Finding Minima*\n",
        "We can use s*cipy.optimize.minimize(*) function to minimize the function.\n",
        "\n",
        "The *minimize()* function takes the following arguments:\n",
        "\n",
        "*fun* - a function representing an equation.\n",
        "\n",
        "*x0* - an initial guess for the root.\n",
        "\n",
        "*method*- name of the method to use. Legal values:\n",
        "    *'CG'\n",
        "\n",
        "    'BFGS'\n",
        "\n",
        "    'Newton-CG'\n",
        "\n",
        "    'L-BFGS-B'\n",
        "\n",
        "    'TNC'\n",
        "\n",
        "    'COBYLA'\n",
        "    \n",
        "    'SLSQP'*\n",
        "\n",
        "*callback* - function called after each iteration of optimization.\n",
        "\n",
        "*options* - a dictionary defining extra params:\n",
        "\n",
        "*{\n",
        "     \"disp\": boolean - print detailed description\n",
        "     \"gtol\": number - the tolerance of the error\n",
        "  }*"
      ],
      "metadata": {
        "id": "jG-6-kjV1aiP"
      }
    },
    {
      "cell_type": "markdown",
      "source": [
        "Minimize the function *x^2 + x + 2* with *BFGS*:"
      ],
      "metadata": {
        "id": "-YDGhBhx5iJN"
      }
    },
    {
      "cell_type": "code",
      "source": [
        "from scipy.optimize import minimize\n",
        "\n",
        "def eqn(x):\n",
        "  return x**2 + x + 2\n",
        "\n",
        "mymin = minimize(eqn, 0, method='BFGS')\n",
        "\n",
        "print(mymin)"
      ],
      "metadata": {
        "colab": {
          "base_uri": "https://localhost:8080/"
        },
        "id": "P5AtFrZu1P2H",
        "outputId": "435f20cf-f332-4b23-f251-50d02b044478"
      },
      "execution_count": 6,
      "outputs": [
        {
          "output_type": "stream",
          "name": "stdout",
          "text": [
            "  message: Optimization terminated successfully.\n",
            "  success: True\n",
            "   status: 0\n",
            "      fun: 1.75\n",
            "        x: [-5.000e-01]\n",
            "      nit: 2\n",
            "      jac: [ 0.000e+00]\n",
            " hess_inv: [[ 5.000e-01]]\n",
            "     nfev: 8\n",
            "     njev: 4\n"
          ]
        }
      ]
    },
    {
      "cell_type": "code",
      "source": [
        "print(mymin.x)"
      ],
      "metadata": {
        "colab": {
          "base_uri": "https://localhost:8080/"
        },
        "id": "mHMZePVu5qAT",
        "outputId": "36b0b8d5-07e1-4983-ff7d-c4d314825520"
      },
      "execution_count": 7,
      "outputs": [
        {
          "output_type": "stream",
          "name": "stdout",
          "text": [
            "[-0.50000001]\n"
          ]
        }
      ]
    }
  ]
}