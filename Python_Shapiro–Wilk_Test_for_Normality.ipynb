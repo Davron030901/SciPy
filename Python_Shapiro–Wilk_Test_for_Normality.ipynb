{
  "nbformat": 4,
  "nbformat_minor": 0,
  "metadata": {
    "colab": {
      "provenance": [],
      "authorship_tag": "ABX9TyO088KNCx7JU2iW5NPP+RFk",
      "include_colab_link": true
    },
    "kernelspec": {
      "name": "python3",
      "display_name": "Python 3"
    },
    "language_info": {
      "name": "python"
    }
  },
  "cells": [
    {
      "cell_type": "markdown",
      "metadata": {
        "id": "view-in-github",
        "colab_type": "text"
      },
      "source": [
        "<a href=\"https://colab.research.google.com/github/Davron030901/SciPy/blob/main/Python_Shapiro%E2%80%93Wilk_Test_for_Normality.ipynb\" target=\"_parent\"><img src=\"https://colab.research.google.com/assets/colab-badge.svg\" alt=\"Open In Colab\"/></a>"
      ]
    },
    {
      "cell_type": "code",
      "execution_count": 3,
      "metadata": {
        "id": "1CDOdYJNUvwN"
      },
      "outputs": [],
      "source": [
        "import numpy as np\n",
        "from scipy.stats import shapiro\n",
        "import seaborn as sns"
      ]
    },
    {
      "cell_type": "code",
      "source": [
        "alpha=0.05"
      ],
      "metadata": {
        "id": "1einTx81ZTBo"
      },
      "execution_count": 4,
      "outputs": []
    },
    {
      "cell_type": "code",
      "source": [
        "np.random.seed(11)"
      ],
      "metadata": {
        "id": "nh4smYqUZani"
      },
      "execution_count": 5,
      "outputs": []
    },
    {
      "cell_type": "markdown",
      "source": [
        "#Example uniform Distribution"
      ],
      "metadata": {
        "id": "xqoXGYKdZp7D"
      }
    },
    {
      "cell_type": "code",
      "source": [
        "rolls=np.random.randint(1,7,size=30)"
      ],
      "metadata": {
        "id": "b3mG-_6OZn6X"
      },
      "execution_count": 6,
      "outputs": []
    },
    {
      "cell_type": "code",
      "source": [
        "sns.histplot(rolls)"
      ],
      "metadata": {
        "colab": {
          "base_uri": "https://localhost:8080/",
          "height": 448
        },
        "id": "txBDtg3WZ3My",
        "outputId": "e0de0aa5-d01f-4783-e901-e902d7a3eee2"
      },
      "execution_count": 8,
      "outputs": [
        {
          "output_type": "execute_result",
          "data": {
            "text/plain": [
              "<Axes: ylabel='Count'>"
            ]
          },
          "metadata": {},
          "execution_count": 8
        },
        {
          "output_type": "display_data",
          "data": {
            "text/plain": [
              "<Figure size 640x480 with 1 Axes>"
            ],
            "image/png": "[encoded data removed]"
          },
          "metadata": {}
        }
      ]
    },
    {
      "cell_type": "code",
      "source": [
        "stat,shapiro_p_value=shapiro(rolls)"
      ],
      "metadata": {
        "id": "tQ89CKKWZ-HK"
      },
      "execution_count": 9,
      "outputs": []
    },
    {
      "cell_type": "code",
      "source": [
        "print(shapiro_p_value)"
      ],
      "metadata": {
        "colab": {
          "base_uri": "https://localhost:8080/"
        },
        "id": "6y9rA5nIaPDC",
        "outputId": "37409852-2b7a-422c-eb95-4373b657f39f"
      },
      "execution_count": 10,
      "outputs": [
        {
          "output_type": "stream",
          "name": "stdout",
          "text": [
            "0.0008686151464921475\n"
          ]
        }
      ]
    },
    {
      "cell_type": "code",
      "source": [
        "if shapiro_p_value>alpha:\n",
        "  print(\"The distribution is uniform (fail to reject H0)\")\n",
        "else:\n",
        "  print(\"The distribution is not uniform (reject H0)\")"
      ],
      "metadata": {
        "colab": {
          "base_uri": "https://localhost:8080/"
        },
        "id": "SgZxgNhcaQy8",
        "outputId": "febbe50a-64d5-4e26-9058-84e12316e7d1"
      },
      "execution_count": 11,
      "outputs": [
        {
          "output_type": "stream",
          "name": "stdout",
          "text": [
            "The distribution is not uniform (reject H0)\n"
          ]
        }
      ]
    },
    {
      "cell_type": "markdown",
      "source": [
        "#Example with a Paired T Test"
      ],
      "metadata": {
        "id": "WNXOp2UXayGm"
      }
    },
    {
      "cell_type": "code",
      "source": [
        "ticket_sales_before=np.array([240000,270000,255000,264000,258000,250000])"
      ],
      "metadata": {
        "id": "wtn9BJQ3aq_z"
      },
      "execution_count": 12,
      "outputs": []
    },
    {
      "cell_type": "code",
      "source": [
        "ticket_sales_after=np.array([540000,600000,585000,630000,615000,660000])"
      ],
      "metadata": {
        "id": "By16cQuvbd-C"
      },
      "execution_count": 13,
      "outputs": []
    },
    {
      "cell_type": "code",
      "source": [
        "ticket_sales_diff=ticket_sales_after-ticket_sales_before"
      ],
      "metadata": {
        "id": "dgz3WMAEbyai"
      },
      "execution_count": 14,
      "outputs": []
    },
    {
      "cell_type": "code",
      "source": [
        "stat,shapiro_p_value=shapiro(ticket_sales_diff)"
      ],
      "metadata": {
        "id": "xtigzIPMb2od"
      },
      "execution_count": 15,
      "outputs": []
    },
    {
      "cell_type": "code",
      "source": [
        "print(shapiro_p_value)"
      ],
      "metadata": {
        "colab": {
          "base_uri": "https://localhost:8080/"
        },
        "id": "C7VMA02Hb5jN",
        "outputId": "141149da-4a6d-4016-9429-2b5928e67143"
      },
      "execution_count": 16,
      "outputs": [
        {
          "output_type": "stream",
          "name": "stdout",
          "text": [
            "0.8365185430531518\n"
          ]
        }
      ]
    },
    {
      "cell_type": "code",
      "source": [
        "if shapiro_p_value>alpha:\n",
        "  print(\"The distribution is uniform (fail to reject H0)\")\n",
        "else:\n",
        "  print(\"The distribution is not uniform (reject H0)\")"
      ],
      "metadata": {
        "colab": {
          "base_uri": "https://localhost:8080/"
        },
        "id": "wpTsQmLTb7P8",
        "outputId": "537e912e-a3e6-47e7-e471-296dbe2d9974"
      },
      "execution_count": 17,
      "outputs": [
        {
          "output_type": "stream",
          "name": "stdout",
          "text": [
            "The distribution is uniform (fail to reject H0\n"
          ]
        }
      ]
    },
    {
      "cell_type": "code",
      "source": [],
      "metadata": {
        "id": "-8f_iKJrcDDu"
      },
      "execution_count": null,
      "outputs": []
    }
  ]
}