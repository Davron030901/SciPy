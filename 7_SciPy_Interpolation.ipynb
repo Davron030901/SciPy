{
  "nbformat": 4,
  "nbformat_minor": 0,
  "metadata": {
    "colab": {
      "provenance": [],
      "authorship_tag": "ABX9TyPRzybRqNbGSGXJZLN27tF3",
      "include_colab_link": true
    },
    "kernelspec": {
      "name": "python3",
      "display_name": "Python 3"
    },
    "language_info": {
      "name": "python"
    }
  },
  "cells": [
    {
      "cell_type": "markdown",
      "metadata": {
        "id": "view-in-github",
        "colab_type": "text"
      },
      "source": [
        "<a href=\"https://colab.research.google.com/github/Davron030901/SciPy/blob/main/7_SciPy_Interpolation.ipynb\" target=\"_parent\"><img src=\"https://colab.research.google.com/assets/colab-badge.svg\" alt=\"Open In Colab\"/></a>"
      ]
    },
    {
      "cell_type": "markdown",
      "source": [
        "**Interpolation** is a method for generating points between given points.\n",
        "\n",
        "For example: for points 1 and 2, we may interpolate and find points 1.33 and 1.66.\n",
        "\n",
        "Interpolation has many usage, in Machine Learning we often deal with missing data in a dataset, interpolation is often used to substitute those values.\n",
        "\n",
        "This method of filling values is called imputation.\n",
        "\n",
        "Apart from imputation, interpolation is often used where we need to smooth the discrete points in a dataset.\n",
        "\n",
        "*How to Implement it in SciPy?*\n",
        "SciPy provides us with a module called *scipy.interpolate* which has many functions to deal with interpolation:\n",
        "\n",
        "**1D Interpolation**\n",
        "The function *interp1d()* is used to interpolate a distribution with 1 variable.\n",
        "\n",
        "It takes x and y points and returns a callable function that can be called with new x and returns corresponding y.\n",
        "\n"
      ],
      "metadata": {
        "id": "skV5jV-gVBax"
      }
    },
    {
      "cell_type": "code",
      "execution_count": null,
      "metadata": {
        "colab": {
          "base_uri": "https://localhost:8080/"
        },
        "id": "FbF9fYONUnvl",
        "outputId": "bc49539b-3db1-4979-d199-efb61c2dc4fe"
      },
      "outputs": [
        {
          "output_type": "stream",
          "name": "stdout",
          "text": [
            "[5.2 5.4 5.6 5.8 6.  6.2 6.4 6.6 6.8]\n"
          ]
        }
      ],
      "source": [
        "from scipy.interpolate import interp1d\n",
        "import numpy as np\n",
        "\n",
        "xs = np.arange(10)\n",
        "ys = 2*xs + 1\n",
        "\n",
        "interp_func = interp1d(xs, ys)\n",
        "\n",
        "newarr = interp_func(np.arange(2.1, 3, 0.1))\n",
        "\n",
        "print(newarr)"
      ]
    },
    {
      "cell_type": "markdown",
      "source": [
        "Note: that new xs should be in same range as of the old xs, meaning that we can't call *interp_func()* with values higher than 10, or less than 0.\n",
        "\n",
        "**Spline Interpolation**\n",
        "In 1D interpolation the points are fitted for a single curve whereas in Spline interpolation the points are fitted against a piecewise function defined with polynomials called splines.\n",
        "\n",
        "The *UnivariateSpline()* function takes xs and ys and produce a callable funciton that can be called with new xs.\n",
        "\n",
        "Piecewise function: A function that has different definition for different ranges."
      ],
      "metadata": {
        "id": "onycgNE-Vm0r"
      }
    },
    {
      "cell_type": "code",
      "source": [
        "from scipy.interpolate import UnivariateSpline\n",
        "import numpy as np\n",
        "\n",
        "xs = np.arange(10)\n",
        "ys = xs**2 + np.sin(xs) + 1\n",
        "\n",
        "interp_func = UnivariateSpline(xs, ys)\n",
        "\n",
        "newarr = interp_func(np.arange(2.1, 3, 0.1))\n",
        "\n",
        "print(newarr)"
      ],
      "metadata": {
        "colab": {
          "base_uri": "https://localhost:8080/"
        },
        "id": "yKwWevCzVRfR",
        "outputId": "be2798e8-7372-401d-eef3-670ca218abf5"
      },
      "execution_count": null,
      "outputs": [
        {
          "output_type": "stream",
          "name": "stdout",
          "text": [
            "[5.62826474 6.03987348 6.47131994 6.92265019 7.3939103  7.88514634\n",
            " 8.39640439 8.92773053 9.47917082]\n"
          ]
        }
      ]
    },
    {
      "cell_type": "markdown",
      "source": [
        "**Interpolation with Radial Basis Function**\n",
        "\n",
        "Radial basis function is a function that is defined corresponding to a fixed reference point.\n",
        "\n",
        "The *Rbf()* function also takes xs and ys as arguments and produces a callable function that can be called with new xs."
      ],
      "metadata": {
        "id": "7gy6BFqnWAWj"
      }
    },
    {
      "cell_type": "code",
      "source": [
        "from scipy.interpolate import Rbf\n",
        "import numpy as np\n",
        "\n",
        "xs = np.arange(10)\n",
        "ys = xs**2 + np.sin(xs) + 1\n",
        "\n",
        "interp_func = Rbf(xs, ys)\n",
        "\n",
        "newarr = interp_func(np.arange(2.1, 3, 0.1))\n",
        "\n",
        "print(newarr)"
      ],
      "metadata": {
        "colab": {
          "base_uri": "https://localhost:8080/"
        },
        "id": "s3wtjybFV8w5",
        "outputId": "4dd90ad2-c2f0-45b0-f9ed-1429b9bed545"
      },
      "execution_count": null,
      "outputs": [
        {
          "output_type": "stream",
          "name": "stdout",
          "text": [
            "[6.25748981 6.62190817 7.00310702 7.40121814 7.8161443  8.24773402\n",
            " 8.69590519 9.16070828 9.64233874]\n"
          ]
        }
      ]
    }
  ]
}