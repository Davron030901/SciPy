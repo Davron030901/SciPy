{
  "nbformat": 4,
  "nbformat_minor": 0,
  "metadata": {
    "colab": {
      "provenance": [],
      "authorship_tag": "ABX9TyOLdKPKrXCT6AcvcVTfrqDe",
      "include_colab_link": true
    },
    "kernelspec": {
      "name": "python3",
      "display_name": "Python 3"
    },
    "language_info": {
      "name": "python"
    }
  },
  "cells": [
    {
      "cell_type": "markdown",
      "metadata": {
        "id": "view-in-github",
        "colab_type": "text"
      },
      "source": [
        "<a href=\"https://colab.research.google.com/github/Davron030901/SciPy/blob/main/3_SciPy_Sparse_Data.ipynb\" target=\"_parent\"><img src=\"https://colab.research.google.com/assets/colab-badge.svg\" alt=\"Open In Colab\"/></a>"
      ]
    },
    {
      "cell_type": "markdown",
      "source": [
        "Sparse data is data that has mostly unused elements (elements that don't carry any information ).\n",
        "\n",
        "It can be an array like this one:\n",
        "\n",
        "*[1, 0, 2, 0, 0, 3, 0, 0, 0, 0, 0, 0]*\n",
        "\n",
        "*Sparse Data:* is a data set where most of the item values are zero.\n",
        "\n",
        "*Dense Array:* is the opposite of a sparse array: most of the values are not zero.\n",
        "\n",
        "In scientific computing, when we are dealing with partial derivatives in linear algebra we will come across sparse data.\n",
        "\n",
        "How to Work With Sparse Data\n",
        "SciPy has a module, *scipy.sparse* that provides functions to deal with sparse data.\n",
        "\n",
        "There are primarily two types of sparse matrices that we use:\n",
        "\n",
        "*CSC* - Compressed Sparse Column. For efficient arithmetic, fast column slicing.\n",
        "\n",
        "*CSR* - Compressed Sparse Row. For fast row slicing, faster matrix vector products\n",
        "\n",
        "We will use the *CSR* matrix in this tutorial.\n",
        "\n",
        "*CSR Matrix*\n",
        "We can create *CSR* matrix by passing an arrray into function *scipy.sparse.csr_matrix()*."
      ],
      "metadata": {
        "id": "jrKc9TUw-Nik"
      }
    },
    {
      "cell_type": "code",
      "execution_count": null,
      "metadata": {
        "colab": {
          "base_uri": "https://localhost:8080/"
        },
        "id": "e2AjIe-T9pDE",
        "outputId": "539a60bb-3007-4c5f-d618-af1b13bcb247"
      },
      "outputs": [
        {
          "output_type": "stream",
          "name": "stdout",
          "text": [
            "  (0, 5)\t1\n",
            "  (0, 6)\t1\n",
            "  (0, 8)\t2\n"
          ]
        }
      ],
      "source": [
        "import numpy as np\n",
        "from scipy.sparse import csr_matrix\n",
        "\n",
        "arr = np.array([0, 0, 0, 0, 0, 1, 1, 0, 2])\n",
        "#               0  1  2  3  4  5  6  7  8  <- indekslar\n",
        "\n",
        "print(csr_matrix(arr))"
      ]
    },
    {
      "cell_type": "markdown",
      "source": [
        "From the result we can see that there are 3 items with value.\n",
        "\n",
        "The 1. item is in row 0 position 5 and has the value 1.\n",
        "\n",
        "The 2. item is in row 0 position 6 and has the value 1.\n",
        "\n",
        "The 3. item is in row 0 position 8 and has the value 2.\n",
        "\n"
      ],
      "metadata": {
        "id": "RPwiK2-nAHwd"
      }
    },
    {
      "cell_type": "markdown",
      "source": [
        "*Sparse Matrix Methods*\n",
        "Viewing stored data (not the zero items) with the data property:"
      ],
      "metadata": {
        "id": "_iJ9K-v4CX4l"
      }
    },
    {
      "cell_type": "code",
      "source": [
        "import numpy as np\n",
        "from scipy.sparse import csr_matrix\n",
        "\n",
        "arr = np.array([[0, 0, 0], [0, 0, 1], [1, 0, 2]])\n",
        "\n",
        "print(csr_matrix(arr).data)"
      ],
      "metadata": {
        "colab": {
          "base_uri": "https://localhost:8080/"
        },
        "id": "-mnFckalCgO9",
        "outputId": "ab8e7d02-0e09-46d2-908e-14dd01549f52"
      },
      "execution_count": null,
      "outputs": [
        {
          "output_type": "stream",
          "name": "stdout",
          "text": [
            "[1 1 2]\n"
          ]
        }
      ]
    },
    {
      "cell_type": "markdown",
      "source": [
        "Counting nonzeros with the *count_nonzero()* method:"
      ],
      "metadata": {
        "id": "P1Cxnx3TDgzo"
      }
    },
    {
      "cell_type": "code",
      "source": [
        "import numpy as np\n",
        "from scipy.sparse import csr_matrix\n",
        "\n",
        "arr = np.array([[0, 0, 0], [0, 0, 1], [1, 0, 2]])\n",
        "\n",
        "print(csr_matrix(arr).count_nonzero())"
      ],
      "metadata": {
        "colab": {
          "base_uri": "https://localhost:8080/"
        },
        "id": "ErVEhgXBDj29",
        "outputId": "e07b300b-511b-4a54-bb8b-4c661c43970d"
      },
      "execution_count": null,
      "outputs": [
        {
          "output_type": "stream",
          "name": "stdout",
          "text": [
            "3\n"
          ]
        }
      ]
    },
    {
      "cell_type": "markdown",
      "source": [
        "Removing zero-entries from the matrix with the *eliminate_zeros()* method:"
      ],
      "metadata": {
        "id": "b7Dkf09PC4Pk"
      }
    },
    {
      "cell_type": "code",
      "source": [
        "import numpy as np\n",
        "from scipy.sparse import csr_matrix\n",
        "\n",
        "arr = np.array([[0, 0, 0], [0, 0, 1], [1, 0, 2]])\n",
        "\n",
        "mat = csr_matrix(arr)\n",
        "mat.eliminate_zeros()\n",
        "\n",
        "print(mat)"
      ],
      "metadata": {
        "colab": {
          "base_uri": "https://localhost:8080/"
        },
        "id": "a49egZWSChtX",
        "outputId": "6a7ffa68-6707-4c7d-cc8e-5262d650d859"
      },
      "execution_count": null,
      "outputs": [
        {
          "output_type": "stream",
          "name": "stdout",
          "text": [
            "  (1, 2)\t1\n",
            "  (2, 0)\t1\n",
            "  (2, 2)\t2\n"
          ]
        }
      ]
    },
    {
      "cell_type": "markdown",
      "source": [
        "Eliminating duplicate entries with the *sum_duplicates()* method:"
      ],
      "metadata": {
        "id": "mwA-IGhxEhhi"
      }
    },
    {
      "cell_type": "code",
      "source": [
        "import numpy as np\n",
        "from scipy.sparse import csr_matrix\n",
        "\n",
        "arr = np.array([[0, 0, 0], [0, 0, 1], [1, 0, 2]])\n",
        "\n",
        "mat = csr_matrix(arr)\n",
        "mat.sum_duplicates()\n",
        "\n",
        "print(mat)"
      ],
      "metadata": {
        "colab": {
          "base_uri": "https://localhost:8080/"
        },
        "id": "hqa2TFHiEY8V",
        "outputId": "f0dc0547-696b-4240-d905-f6f22ff31324"
      },
      "execution_count": null,
      "outputs": [
        {
          "output_type": "stream",
          "name": "stdout",
          "text": [
            "  (1, 2)\t1\n",
            "  (2, 0)\t1\n",
            "  (2, 2)\t2\n"
          ]
        }
      ]
    },
    {
      "cell_type": "markdown",
      "source": [
        "Converting from *csr* to *csc* with the *tocsc()* method:"
      ],
      "metadata": {
        "id": "2QxDA6ZoFHgL"
      }
    },
    {
      "cell_type": "code",
      "source": [
        "import numpy as np\n",
        "from scipy.sparse import csr_matrix\n",
        "\n",
        "arr = np.array([[0, 0, 0], [0, 0, 1], [1, 0, 2]])\n",
        "\n",
        "newarr = csr_matrix(arr).tocsc()\n",
        "\n",
        "print(newarr)"
      ],
      "metadata": {
        "colab": {
          "base_uri": "https://localhost:8080/"
        },
        "id": "7DgKhHZAEnzb",
        "outputId": "3780be7f-6424-4db4-9269-991be3028450"
      },
      "execution_count": null,
      "outputs": [
        {
          "output_type": "stream",
          "name": "stdout",
          "text": [
            "  (2, 0)\t1\n",
            "  (1, 2)\t1\n",
            "  (2, 2)\t2\n"
          ]
        }
      ]
    },
    {
      "cell_type": "markdown",
      "source": [
        "Note: Apart from the mentioned sparse specific operations, sparse matrices support all of the operations that normal matrices support e.g. reshaping, summing, arithemetic, broadcasting etc."
      ],
      "metadata": {
        "id": "6fjKt5URH03L"
      }
    }
  ]
}