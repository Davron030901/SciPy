{
  "nbformat": 4,
  "nbformat_minor": 0,
  "metadata": {
    "colab": {
      "provenance": [],
      "authorship_tag": "ABX9TyNQ8ftoDt6y2++Lu4lkjnx7",
      "include_colab_link": true
    },
    "kernelspec": {
      "name": "python3",
      "display_name": "Python 3"
    },
    "language_info": {
      "name": "python"
    }
  },
  "cells": [
    {
      "cell_type": "markdown",
      "metadata": {
        "id": "view-in-github",
        "colab_type": "text"
      },
      "source": [
        "<a href=\"https://colab.research.google.com/github/Davron030901/SciPy/blob/main/6_SciPy_Matlab_Arrays.ipynb\" target=\"_parent\"><img src=\"https://colab.research.google.com/assets/colab-badge.svg\" alt=\"Open In Colab\"/></a>"
      ]
    },
    {
      "cell_type": "markdown",
      "source": [
        "**Working With Matlab Arrays**\n",
        "We know that NumPy provides us with methods to persist the data in readable formats for Python. But SciPy provides us with interoperability with Matlab as well.\n",
        "\n",
        "SciPy provides us with the module *scipy.io*, which has functions for working with Matlab arrays.\n",
        "\n",
        "*Exporting Data in Matlab Format*\n",
        "\n",
        "The *savemat()* function allows us to export data in Matlab format.\n",
        "\n",
        "The method takes the following parameters:\n",
        "\n",
        "*filename* - the file name for saving data.\n",
        "\n",
        "*mdict* - a dictionary containing the data.\n",
        "*do_compression* - a boolean value that specifies whether to compress the result or not. Default False."
      ],
      "metadata": {
        "id": "FEDfGU1gSyBA"
      }
    },
    {
      "cell_type": "code",
      "execution_count": null,
      "metadata": {
        "id": "F1GVfLZBSldv"
      },
      "outputs": [],
      "source": [
        "from scipy import io\n",
        "import numpy as np\n",
        "\n",
        "arr = np.arange(10)\n",
        "\n",
        "io.savemat('arr.mat', {\"vec\": arr})"
      ]
    },
    {
      "cell_type": "markdown",
      "source": [
        "Note: The example above saves a file name *\"arr.mat\"* on your computer.\n",
        "\n",
        "To open the file, check out the \"Import Data from Matlab Format\" example below:"
      ],
      "metadata": {
        "id": "OUfhaRaMTnl7"
      }
    },
    {
      "cell_type": "markdown",
      "source": [
        "**Import Data from Matlab Format**\n",
        "\n",
        "The *loadmat()* function allows us to import data from a Matlab file.\n",
        "\n",
        "The function takes one required parameter:\n",
        "\n",
        "*filename* - the file name of the saved data.\n",
        "\n",
        "It will return a structured array whose keys are the variable names, and the corresponding values are the variable values."
      ],
      "metadata": {
        "id": "cc9eXXRSTwMt"
      }
    },
    {
      "cell_type": "code",
      "source": [
        "from scipy import io\n",
        "import numpy as np\n",
        "\n",
        "arr = np.array([0, 1, 2, 3, 4, 5, 6, 7, 8, 9,])\n",
        "\n",
        "# Export:\n",
        "io.savemat('arr.mat', {\"vec\": arr})\n",
        "\n",
        "# Import:\n",
        "mydata = io.loadmat('arr.mat')\n",
        "\n",
        "print(mydata)"
      ],
      "metadata": {
        "colab": {
          "base_uri": "https://localhost:8080/"
        },
        "id": "q4YG_JqMTvd6",
        "outputId": "226d141c-6d5a-4f28-b288-a8e52f6742eb"
      },
      "execution_count": null,
      "outputs": [
        {
          "output_type": "stream",
          "name": "stdout",
          "text": [
            "{'__header__': b'MATLAB 5.0 MAT-file Platform: posix, Created on: Tue Oct 29 17:25:39 2024', '__version__': '1.0', '__globals__': [], 'vec': array([[0, 1, 2, 3, 4, 5, 6, 7, 8, 9]])}\n"
          ]
        }
      ]
    },
    {
      "cell_type": "markdown",
      "source": [
        "Use the variable name \"vec\" to display only the array from the matlab data:"
      ],
      "metadata": {
        "id": "BEpjHGuhUAkC"
      }
    },
    {
      "cell_type": "code",
      "source": [
        "print(mydata['vec'])"
      ],
      "metadata": {
        "colab": {
          "base_uri": "https://localhost:8080/"
        },
        "id": "rbKTwtN9T9Ao",
        "outputId": "de6fc47e-aa75-477e-e87b-2fec9aade6e2"
      },
      "execution_count": null,
      "outputs": [
        {
          "output_type": "stream",
          "name": "stdout",
          "text": [
            "[[0 1 2 3 4 5 6 7 8 9]]\n"
          ]
        }
      ]
    },
    {
      "cell_type": "markdown",
      "source": [
        "Note: We can see that the array originally was 1D, but on extraction it has increased one dimension.\n",
        "\n",
        "In order to resolve this we can pass an additional argument *squeeze_me=True:*"
      ],
      "metadata": {
        "id": "rbl5UB3rULXu"
      }
    },
    {
      "cell_type": "code",
      "source": [
        "# Import:\n",
        "mydata = io.loadmat('arr.mat', squeeze_me=True)\n",
        "\n",
        "print(mydata['vec'])"
      ],
      "metadata": {
        "colab": {
          "base_uri": "https://localhost:8080/"
        },
        "id": "jePFTvh9UFCb",
        "outputId": "a05d96ce-3555-435d-c1a0-8ae4b0a0e085"
      },
      "execution_count": null,
      "outputs": [
        {
          "output_type": "stream",
          "name": "stdout",
          "text": [
            "[0 1 2 3 4 5 6 7 8 9]\n"
          ]
        }
      ]
    }
  ]
}