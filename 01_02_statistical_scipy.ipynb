{
  "cells": [
    {
      "cell_type": "markdown",
      "metadata": {
        "id": "view-in-github",
        "colab_type": "text"
      },
      "source": [
        "<a href=\"https://colab.research.google.com/github/Davron030901/SciPy/blob/main/01_02_statistical_scipy.ipynb\" target=\"_parent\"><img src=\"https://colab.research.google.com/assets/colab-badge.svg\" alt=\"Open In Colab\"/></a>"
      ]
    },
    {
      "cell_type": "code",
      "execution_count": null,
      "metadata": {
        "id": "cJKkcUrRGGcu"
      },
      "outputs": [],
      "source": [
        "# import relevant libraries and modules\n",
        "import numpy as np\n",
        "from scipy import stats"
      ]
    },
    {
      "cell_type": "code",
      "execution_count": null,
      "metadata": {
        "colab": {
          "base_uri": "https://localhost:8080/"
        },
        "id": "eZFaKNdQGGcx",
        "outputId": "4ccf3b61-d80d-48c9-fafe-7a9fdb2d6088"
      },
      "outputs": [
        {
          "output_type": "execute_result",
          "data": {
            "text/plain": [
              "<scipy.stats._distn_infrastructure.rv_discrete_frozen at 0x7d3ffc1c3b50>"
            ]
          },
          "metadata": {},
          "execution_count": 3
        }
      ],
      "source": [
        "# declare B to be a binomial discrete random variable with parameters 10 and 0.4\n",
        "B = stats.binom(10, 0.4)\n",
        "B"
      ]
    },
    {
      "cell_type": "code",
      "execution_count": null,
      "metadata": {
        "colab": {
          "base_uri": "https://localhost:8080/"
        },
        "id": "SVjRaN0aGGc0",
        "outputId": "653bb189-8d21-4375-a4f9-59f08fda0334"
      },
      "outputs": [
        {
          "output_type": "execute_result",
          "data": {
            "text/plain": [
              "0.12093235199999991"
            ]
          },
          "metadata": {},
          "execution_count": 4
        }
      ],
      "source": [
        "# compute value of its probability mass function at 2\n",
        "B.pmf(2)"
      ]
    },
    {
      "cell_type": "code",
      "execution_count": null,
      "metadata": {
        "colab": {
          "base_uri": "https://localhost:8080/"
        },
        "id": "TXEQk-m0GGc1",
        "outputId": "ea8889a7-f004-4469-9efd-1e643a83b48e"
      },
      "outputs": [
        {
          "output_type": "execute_result",
          "data": {
            "text/plain": [
              "0.3822806015999999"
            ]
          },
          "metadata": {},
          "execution_count": 5
        }
      ],
      "source": [
        "# compute value of its cumulative density function at 3\n",
        "B.cdf(3)"
      ]
    },
    {
      "cell_type": "code",
      "execution_count": null,
      "metadata": {
        "id": "jD1jW0r5GGc2"
      },
      "outputs": [],
      "source": [
        "# declare P to be a poission discrete random variable with parameter 2\n",
        "P = stats.poisson(2)"
      ]
    },
    {
      "cell_type": "code",
      "execution_count": null,
      "metadata": {
        "colab": {
          "base_uri": "https://localhost:8080/"
        },
        "id": "zHeEnTd-GGc3",
        "outputId": "d219ee66-fcff-4b8b-d45f-65c842b7129c"
      },
      "outputs": [
        {
          "output_type": "execute_result",
          "data": {
            "text/plain": [
              "0.2706705664732254"
            ]
          },
          "metadata": {},
          "execution_count": 7
        }
      ],
      "source": [
        "# compute value of its probability mass function at 2\n",
        "P.pmf(2)"
      ]
    },
    {
      "cell_type": "code",
      "execution_count": null,
      "metadata": {
        "colab": {
          "base_uri": "https://localhost:8080/"
        },
        "id": "St4MbeOgGGc3",
        "outputId": "6aca5ac5-636b-4b4e-8ce9-40d4da2ecc13"
      },
      "outputs": [
        {
          "output_type": "execute_result",
          "data": {
            "text/plain": [
              "0.9473469826562889"
            ]
          },
          "metadata": {},
          "execution_count": 8
        }
      ],
      "source": [
        "# compute value of its cumulative density function at 4\n",
        "P.cdf(4)"
      ]
    },
    {
      "cell_type": "code",
      "execution_count": null,
      "metadata": {
        "id": "jGzCuA97GGc5"
      },
      "outputs": [],
      "source": [
        "# declare G to be a geometric discrete random variable with parameter 0.25\n",
        "G = stats.geom(0.25)"
      ]
    },
    {
      "cell_type": "code",
      "execution_count": null,
      "metadata": {
        "colab": {
          "base_uri": "https://localhost:8080/"
        },
        "id": "IH8iZd_1GGc6",
        "outputId": "e6bd4516-21d0-4d52-901e-66253bf87cc4"
      },
      "outputs": [
        {
          "output_type": "execute_result",
          "data": {
            "text/plain": [
              "0.140625"
            ]
          },
          "metadata": {},
          "execution_count": 10
        }
      ],
      "source": [
        "# compute value of its probability mass function at 3\n",
        "G.pmf(3)"
      ]
    },
    {
      "cell_type": "code",
      "execution_count": null,
      "metadata": {
        "colab": {
          "base_uri": "https://localhost:8080/"
        },
        "id": "dTORqJ68GGc7",
        "outputId": "d3ab1efc-3189-48d1-cbc1-cf74cc690374"
      },
      "outputs": [
        {
          "output_type": "execute_result",
          "data": {
            "text/plain": [
              "0.68359375"
            ]
          },
          "metadata": {},
          "execution_count": 11
        }
      ],
      "source": [
        "# compute value of its cumulative density function at 4\n",
        "G.cdf(4)"
      ]
    },
    {
      "cell_type": "code",
      "execution_count": null,
      "metadata": {
        "id": "EPWMKCrJGGc7"
      },
      "outputs": [],
      "source": [
        "# declare N to be a normal continuous random variable with parameters 0 and 1\n",
        "N = stats.norm(0, 1)"
      ]
    },
    {
      "cell_type": "code",
      "execution_count": null,
      "metadata": {
        "colab": {
          "base_uri": "https://localhost:8080/"
        },
        "id": "pffDpMTmGGc8",
        "outputId": "9f988561-8dd1-4f42-a774-e03311ffdff4"
      },
      "outputs": [
        {
          "output_type": "execute_result",
          "data": {
            "text/plain": [
              "0.3969525474770118"
            ]
          },
          "metadata": {},
          "execution_count": 13
        }
      ],
      "source": [
        "# compute its probability density at 0.1\n",
        "N.pdf(0.1)"
      ]
    },
    {
      "cell_type": "code",
      "execution_count": null,
      "metadata": {
        "colab": {
          "base_uri": "https://localhost:8080/"
        },
        "id": "ELJrjwmsGGc8",
        "outputId": "fa720c85-11ef-43c3-b026-a897de8cae82"
      },
      "outputs": [
        {
          "output_type": "execute_result",
          "data": {
            "text/plain": [
              "0.42074029056089696"
            ]
          },
          "metadata": {},
          "execution_count": 14
        }
      ],
      "source": [
        "# compute its cumulative density at -0.2\n",
        "N.cdf(-0.2)"
      ]
    },
    {
      "cell_type": "code",
      "execution_count": null,
      "metadata": {
        "id": "WZISxGlDGGc9"
      },
      "outputs": [],
      "source": [
        "# declare E to be an exponential continuous random variable with parameter 4\n",
        "E = stats.expon(4)"
      ]
    },
    {
      "cell_type": "code",
      "execution_count": null,
      "metadata": {
        "id": "DZX9kB4kGGc9"
      },
      "outputs": [],
      "source": [
        "# declare X to be a beta continuous random variable with parameters 1 and 3\n",
        "X = stats.beta(1, 3)"
      ]
    },
    {
      "cell_type": "code",
      "execution_count": null,
      "metadata": {
        "colab": {
          "base_uri": "https://localhost:8080/"
        },
        "id": "3uzW2zNdGGc9",
        "outputId": "062c7382-7845-407e-839d-3f6701a57c9e"
      },
      "outputs": [
        {
          "output_type": "execute_result",
          "data": {
            "text/plain": [
              "0.48000000000000004"
            ]
          },
          "metadata": {},
          "execution_count": 17
        }
      ],
      "source": [
        "# compute its probability density at 0.6\n",
        "X.pdf(0.6)"
      ]
    },
    {
      "cell_type": "code",
      "execution_count": null,
      "metadata": {
        "colab": {
          "base_uri": "https://localhost:8080/"
        },
        "id": "zHXF07FWGGc9",
        "outputId": "f0f1be21-34e5-43e4-86c7-30d2bd1baa5a"
      },
      "outputs": [
        {
          "output_type": "execute_result",
          "data": {
            "text/plain": [
              "0.875"
            ]
          },
          "metadata": {},
          "execution_count": 18
        }
      ],
      "source": [
        "# compute its cumulative density at 0.5\n",
        "X.cdf(0.5)"
      ]
    },
    {
      "cell_type": "code",
      "execution_count": null,
      "metadata": {
        "id": "XmWkzwkrGGc9"
      },
      "outputs": [],
      "source": [
        "# create a variable named scores containing a numpy array\n",
        "# that represents the scores of participants in a competition\n",
        "scores = np.random.randint(50, 101, 300)"
      ]
    },
    {
      "cell_type": "code",
      "execution_count": null,
      "metadata": {
        "colab": {
          "base_uri": "https://localhost:8080/"
        },
        "id": "3MPiJL40GGc-",
        "outputId": "11185c35-e94d-40bf-a6f3-8856abde258e"
      },
      "outputs": [
        {
          "output_type": "execute_result",
          "data": {
            "text/plain": [
              "74.0"
            ]
          },
          "metadata": {},
          "execution_count": 20
        }
      ],
      "source": [
        "# compute the 50th percentile of scores\n",
        "stats.scoreatpercentile(scores, 50)"
      ]
    },
    {
      "cell_type": "code",
      "execution_count": null,
      "metadata": {
        "colab": {
          "base_uri": "https://localhost:8080/"
        },
        "id": "YdX-E8FXGGc-",
        "outputId": "e0d07118-a854-4e19-97a9-a1a72a64a946"
      },
      "outputs": [
        {
          "output_type": "execute_result",
          "data": {
            "text/plain": [
              "95.0"
            ]
          },
          "metadata": {},
          "execution_count": 21
        }
      ],
      "source": [
        "# compute the 90th percentile of scores\n",
        "stats.scoreatpercentile(scores, 90)"
      ]
    },
    {
      "cell_type": "code",
      "execution_count": null,
      "metadata": {
        "colab": {
          "base_uri": "https://localhost:8080/"
        },
        "id": "DFsSAD-rGGc-",
        "outputId": "ea38ccf7-66b8-4130-b400-683393e049db"
      },
      "outputs": [
        {
          "output_type": "execute_result",
          "data": {
            "text/plain": [
              "array([ 67.83750269,  93.99354381,  59.40422247,  85.05092846,\n",
              "        61.05413943,  71.2711817 ,  50.22595582,  86.51177768,\n",
              "        75.29259797,  84.83309466,  60.20309581,  53.2101008 ,\n",
              "        53.97346178,  54.74712245,  60.12427127,  71.86015296,\n",
              "        68.349923  ,  56.73748527,  85.97399352,  57.49969634,\n",
              "        74.9564001 ,  31.55581336,  87.98603891,  60.53486803,\n",
              "        86.06006907,  81.64231808,  65.69482668,  60.03410171,\n",
              "       104.51462182,  77.2883239 ,  80.61577682,  52.70405865,\n",
              "        44.48896081,  51.42935003,  89.98071736,  44.26067698,\n",
              "        38.51514531,  51.59617827,  57.89113396,  64.77605127,\n",
              "        82.47028203,  46.87871356,  83.14571563, 100.95951663,\n",
              "        47.78855324,  49.34710763,  58.3596767 ,  78.53010221,\n",
              "        68.428504  ,  67.08005402,  66.48531116,  59.22981717,\n",
              "        82.67618323,  71.80863115,  76.22130216,  56.26345748,\n",
              "        88.72939146,  84.08621917,  40.98658741,  91.05849637,\n",
              "        89.53860162,  69.63293939,  83.04493487,  54.13025107,\n",
              "        56.22848971,  66.79469547,  83.14847161,  28.05247971,\n",
              "       101.54633324,  75.91895302,  64.1057433 ,  60.7267714 ,\n",
              "        84.45969383,  84.60130967,  42.17875799,  60.89269841,\n",
              "        71.92439758,  81.59125851,  85.66775026,  90.48096501,\n",
              "        50.70575082,  55.48681857,  62.93675083,  76.69467207,\n",
              "        99.76218814,  70.09639388,  72.63376576,  68.15880267,\n",
              "        63.29829746,  71.42748708,  55.32746271,  71.70519581,\n",
              "        52.52903961,  74.82125982,  69.07967825,  72.16324252,\n",
              "        83.66000244,  90.53931521,  59.39602969,  70.51944749])"
            ]
          },
          "metadata": {},
          "execution_count": 25
        }
      ],
      "source": [
        "# create a variable named round1_scores containing a numpy array\n",
        "# that represents the scores of participants from school A in competition\n",
        "schoolA_scores = np.random.normal(70, 15, size=100)\n",
        "schoolA_scores"
      ]
    },
    {
      "cell_type": "code",
      "execution_count": null,
      "metadata": {
        "colab": {
          "base_uri": "https://localhost:8080/"
        },
        "id": "DgCIMjlmGGc-",
        "outputId": "988d0e62-4c8a-4a4f-8113-a4541087e9a1"
      },
      "outputs": [
        {
          "output_type": "execute_result",
          "data": {
            "text/plain": [
              "array([90.14991088, 78.23438585, 85.21917915, 82.25087857, 73.93386604,\n",
              "       92.71262034, 68.96605943, 61.92486302, 73.75296555, 72.4969852 ])"
            ]
          },
          "metadata": {},
          "execution_count": 26
        }
      ],
      "source": [
        "# create a variable named round2_scores containing a numpy array\n",
        "# that represents the scores of participants from school B in competition\n",
        "schoolB_scores = np.random.normal(80, 15, size=10)\n",
        "schoolB_scores"
      ]
    },
    {
      "cell_type": "code",
      "execution_count": null,
      "metadata": {
        "colab": {
          "base_uri": "https://localhost:8080/"
        },
        "id": "brEgskfxGGc-",
        "outputId": "5a86ce2c-468b-49aa-d866-b5b01c64a78b"
      },
      "outputs": [
        {
          "output_type": "execute_result",
          "data": {
            "text/plain": [
              "TtestResult(statistic=-1.7526154960909885, pvalue=0.08250589176552157, df=108.0)"
            ]
          },
          "metadata": {},
          "execution_count": 27
        }
      ],
      "source": [
        "# conduct the T-test for the means of schoolA_scores and schoolB_scores\n",
        "stats.ttest_ind(schoolA_scores, schoolB_scores)"
      ]
    }
  ],
  "metadata": {
    "kernelspec": {
      "display_name": "Python 3",
      "language": "python",
      "name": "python3"
    },
    "language_info": {
      "codemirror_mode": {
        "name": "ipython",
        "version": 3
      },
      "file_extension": ".py",
      "mimetype": "text/x-python",
      "name": "python",
      "nbconvert_exporter": "python",
      "pygments_lexer": "ipython3",
      "version": "3.6.9"
    },
    "colab": {
      "provenance": [],
      "include_colab_link": true
    }
  },
  "nbformat": 4,
  "nbformat_minor": 0
}