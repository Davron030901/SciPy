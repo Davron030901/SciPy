{
  "nbformat": 4,
  "nbformat_minor": 0,
  "metadata": {
    "colab": {
      "provenance": [],
      "authorship_tag": "ABX9TyP6z82DIhtjxmX0iQiRD9vO",
      "include_colab_link": true
    },
    "kernelspec": {
      "name": "python3",
      "display_name": "Python 3"
    },
    "language_info": {
      "name": "python"
    }
  },
  "cells": [
    {
      "cell_type": "markdown",
      "metadata": {
        "id": "view-in-github",
        "colab_type": "text"
      },
      "source": [
        "<a href=\"https://colab.research.google.com/github/Davron030901/SciPy/blob/main/1_SciPy_Constants.ipynb\" target=\"_parent\"><img src=\"https://colab.research.google.com/assets/colab-badge.svg\" alt=\"Open In Colab\"/></a>"
      ]
    },
    {
      "cell_type": "markdown",
      "source": [
        "***NumPy Tutorial***"
      ],
      "metadata": {
        "id": "3qnp-wphkhYf"
      }
    },
    {
      "cell_type": "markdown",
      "source": [
        "SciPy is a scientific computation library that uses NumPy underneath.\n",
        "\n",
        "SciPy stands for Scientific Python."
      ],
      "metadata": {
        "id": "wa-Ad9qMoDhg"
      }
    },
    {
      "cell_type": "markdown",
      "source": [
        "Learning by Examples\n",
        "In our \"Try it Yourself\" editor, you can use the SciPy module, and modify the code to see the result."
      ],
      "metadata": {
        "id": "gJXBUNJ0n6fZ"
      }
    },
    {
      "cell_type": "markdown",
      "source": [
        "*SciPy Introduction*"
      ],
      "metadata": {
        "id": "tBr5uKk-prVN"
      }
    },
    {
      "cell_type": "markdown",
      "source": [
        "SciPy is a scientific computation library that uses NumPy underneath.\n",
        "\n",
        "SciPy stands for Scientific Python.\n",
        "\n",
        "It provides more utility functions for optimization, stats and signal processing.\n",
        "\n",
        "Like *NumPy, SciPy* is open source so we can use it freely.\n",
        "\n",
        "SciPy was created by NumPy's creator *Travis Olliphant*."
      ],
      "metadata": {
        "id": "urQtUCasp0Mu"
      }
    },
    {
      "cell_type": "markdown",
      "source": [
        "SciPy is predominantly written in Python, but a few segments are written in C."
      ],
      "metadata": {
        "id": "GGqQCvd6qBZI"
      }
    },
    {
      "cell_type": "markdown",
      "source": [
        "The source code for SciPy is located at this github repository https://github.com/scipy/scipy\n",
        "\n",
        "github: enables many people to work on the same codebase."
      ],
      "metadata": {
        "id": "-aw7LlKgqFMZ"
      }
    },
    {
      "cell_type": "markdown",
      "source": [
        "Installation of SciPy"
      ],
      "metadata": {
        "id": "aR0S5gOaqLiR"
      }
    },
    {
      "cell_type": "code",
      "source": [
        "!pip install scipy"
      ],
      "metadata": {
        "colab": {
          "base_uri": "https://localhost:8080/"
        },
        "id": "S01XAsJJk_re",
        "outputId": "97ef0149-ee3c-4966-bfcd-b9323b0bc66e"
      },
      "execution_count": 2,
      "outputs": [
        {
          "output_type": "stream",
          "name": "stdout",
          "text": [
            "Requirement already satisfied: scipy in /usr/local/lib/python3.10/dist-packages (1.13.1)\n",
            "Requirement already satisfied: numpy<2.3,>=1.22.4 in /usr/local/lib/python3.10/dist-packages (from scipy) (1.26.4)\n"
          ]
        }
      ]
    },
    {
      "cell_type": "markdown",
      "source": [
        "If this command fails, then use a Python distribution that already has SciPy installed like, Anaconda, Spyder etc.\n",
        "\n",
        "Import SciPy\n",
        "Once SciPy is installed, import the SciPy module(s) you want to use in your applications by adding the *from scipy import module* statement:"
      ],
      "metadata": {
        "id": "zb6cbeB5qTij"
      }
    },
    {
      "cell_type": "code",
      "source": [
        "from scipy import constants\n",
        "\n",
        "print(constants.liter)"
      ],
      "metadata": {
        "colab": {
          "base_uri": "https://localhost:8080/"
        },
        "id": "0nRSFNyVqOtl",
        "outputId": "eb8313fa-969c-41cf-fc01-3ac227e69915"
      },
      "execution_count": 3,
      "outputs": [
        {
          "output_type": "stream",
          "name": "stdout",
          "text": [
            "0.001\n"
          ]
        }
      ]
    },
    {
      "cell_type": "markdown",
      "source": [
        "*constants:* SciPy offers a set of mathematical constants, one of them is *liter* which returns *1 liter as cubic meters.*\n",
        "\n",
        "You will learn more about constants in the next chapter."
      ],
      "metadata": {
        "id": "7iACHlKPqnf1"
      }
    },
    {
      "cell_type": "markdown",
      "source": [
        "Checking SciPy Version\n",
        "The version string is stored under the *__version__* attribute."
      ],
      "metadata": {
        "id": "2knjdq-XqurS"
      }
    },
    {
      "cell_type": "code",
      "source": [
        "import scipy\n",
        "\n",
        "print(scipy.__version__)"
      ],
      "metadata": {
        "colab": {
          "base_uri": "https://localhost:8080/"
        },
        "id": "UVd_cv6Rq0b4",
        "outputId": "62bc132c-d5c3-45d5-c864-b25f57b381fa"
      },
      "execution_count": 4,
      "outputs": [
        {
          "output_type": "stream",
          "name": "stdout",
          "text": [
            "1.13.1\n"
          ]
        }
      ]
    },
    {
      "cell_type": "markdown",
      "source": [
        "Note: two underscore characters are used in __version__."
      ],
      "metadata": {
        "id": "u4TAvnXPq6eP"
      }
    },
    {
      "cell_type": "markdown",
      "source": [
        "As SciPy is more focused on scientific implementations, it provides many built-in scientific constants.\n",
        "\n",
        "These constants can be helpful when you are working with Data Science"
      ],
      "metadata": {
        "id": "GYoialxvrqJu"
      }
    },
    {
      "cell_type": "markdown",
      "source": [
        "PI is an example of a scientific constant."
      ],
      "metadata": {
        "id": "mEuUPrxssdcg"
      }
    },
    {
      "cell_type": "code",
      "source": [
        "print(constants.pi)"
      ],
      "metadata": {
        "colab": {
          "base_uri": "https://localhost:8080/"
        },
        "id": "gxTRb54ltKPL",
        "outputId": "f9f3f6d1-18fb-4371-b5ec-abfddd63453e"
      },
      "execution_count": 5,
      "outputs": [
        {
          "output_type": "stream",
          "name": "stdout",
          "text": [
            "3.141592653589793\n"
          ]
        }
      ]
    },
    {
      "cell_type": "markdown",
      "source": [
        "*Constant Units*\n",
        "\n",
        "A list of all units under the constants module can be seen using the *dir()* function."
      ],
      "metadata": {
        "id": "WOOZRUr4tQO1"
      }
    },
    {
      "cell_type": "code",
      "source": [
        "print(dir(constants))"
      ],
      "metadata": {
        "colab": {
          "base_uri": "https://localhost:8080/"
        },
        "id": "sNw-0J4qtLhA",
        "outputId": "b19a834c-7730-4bc4-efae-e918b0ed93bd"
      },
      "execution_count": 6,
      "outputs": [
        {
          "output_type": "stream",
          "name": "stdout",
          "text": [
            "['Avogadro', 'Boltzmann', 'Btu', 'Btu_IT', 'Btu_th', 'ConstantWarning', 'G', 'Julian_year', 'N_A', 'Planck', 'R', 'Rydberg', 'Stefan_Boltzmann', 'Wien', '__all__', '__builtins__', '__cached__', '__doc__', '__file__', '__loader__', '__name__', '__package__', '__path__', '__spec__', '_codata', '_constants', '_obsolete_constants', 'acre', 'alpha', 'angstrom', 'arcmin', 'arcminute', 'arcsec', 'arcsecond', 'astronomical_unit', 'atm', 'atmosphere', 'atomic_mass', 'atto', 'au', 'bar', 'barrel', 'bbl', 'blob', 'c', 'calorie', 'calorie_IT', 'calorie_th', 'carat', 'centi', 'codata', 'constants', 'convert_temperature', 'day', 'deci', 'degree', 'degree_Fahrenheit', 'deka', 'dyn', 'dyne', 'e', 'eV', 'electron_mass', 'electron_volt', 'elementary_charge', 'epsilon_0', 'erg', 'exa', 'exbi', 'femto', 'fermi', 'find', 'fine_structure', 'fluid_ounce', 'fluid_ounce_US', 'fluid_ounce_imp', 'foot', 'g', 'gallon', 'gallon_US', 'gallon_imp', 'gas_constant', 'gibi', 'giga', 'golden', 'golden_ratio', 'grain', 'gram', 'gravitational_constant', 'h', 'hbar', 'hectare', 'hecto', 'horsepower', 'hour', 'hp', 'inch', 'k', 'kgf', 'kibi', 'kilo', 'kilogram_force', 'kmh', 'knot', 'lambda2nu', 'lb', 'lbf', 'light_year', 'liter', 'litre', 'long_ton', 'm_e', 'm_n', 'm_p', 'm_u', 'mach', 'mebi', 'mega', 'metric_ton', 'micro', 'micron', 'mil', 'mile', 'milli', 'minute', 'mmHg', 'mph', 'mu_0', 'nano', 'nautical_mile', 'neutron_mass', 'nu2lambda', 'ounce', 'oz', 'parsec', 'pebi', 'peta', 'physical_constants', 'pi', 'pico', 'point', 'pound', 'pound_force', 'precision', 'proton_mass', 'psi', 'pt', 'quecto', 'quetta', 'ronna', 'ronto', 'short_ton', 'sigma', 'slinch', 'slug', 'speed_of_light', 'speed_of_sound', 'stone', 'survey_foot', 'survey_mile', 'tebi', 'tera', 'test', 'ton_TNT', 'torr', 'troy_ounce', 'troy_pound', 'u', 'unit', 'value', 'week', 'yard', 'year', 'yobi', 'yocto', 'yotta', 'zebi', 'zepto', 'zero_Celsius', 'zetta']\n"
          ]
        }
      ]
    },
    {
      "cell_type": "markdown",
      "source": [
        "*Unit Categories*\n",
        "\n",
        "The units are placed under these categories:\n",
        "\n",
        "*Metric\n",
        "\n",
        "*Binary\n",
        "\n",
        "\n",
        "\n",
        "\n",
        "\n",
        "*Mass\n",
        "\n",
        "*Angle\n",
        "\n",
        "*Time\n",
        "\n",
        "*Length\n",
        "\n",
        "*Pressure\n",
        "\n",
        "*Volume\n",
        "\n",
        "*Speed\n",
        "\n",
        "*Temperature\n",
        "\n",
        "*Energy\n",
        "\n",
        "*Power\n",
        "\n",
        "*Force\n"
      ],
      "metadata": {
        "id": "dSdT5-WXtp5_"
      }
    },
    {
      "cell_type": "markdown",
      "source": [
        "*Metric (SI) Prefixes:*\n",
        "Return the specified unit in *meter* (e.g. centi returns 0.01)"
      ],
      "metadata": {
        "id": "qPGNnmyIuqE3"
      }
    },
    {
      "cell_type": "code",
      "source": [
        "print(constants.yotta)    #1e+24\n",
        "print(constants.zetta)    #1e+21\n",
        "print(constants.exa)      #1e+18\n",
        "print(constants.peta)     #1000000000000000.0\n",
        "print(constants.tera)     #1000000000000.0\n",
        "print(constants.giga)     #1000000000.0\n",
        "print(constants.mega)     #1000000.0\n",
        "print(constants.kilo)     #1000.0\n",
        "print(constants.hecto)    #100.0\n",
        "print(constants.deka)     #10.0\n",
        "print(constants.deci)     #0.1\n",
        "print(constants.centi)    #0.01\n",
        "print(constants.milli)    #0.001\n",
        "print(constants.micro)    #1e-06\n",
        "print(constants.nano)     #1e-09\n",
        "print(constants.pico)     #1e-12\n",
        "print(constants.femto)    #1e-15\n",
        "print(constants.atto)     #1e-18\n",
        "print(constants.zepto)    #1e-21"
      ],
      "metadata": {
        "colab": {
          "base_uri": "https://localhost:8080/"
        },
        "id": "KLG8D-uMtVrp",
        "outputId": "3e197cb3-a670-4233-bbf0-7bb0776c9f35"
      },
      "execution_count": 8,
      "outputs": [
        {
          "output_type": "stream",
          "name": "stdout",
          "text": [
            "1e+24\n",
            "1e+21\n",
            "1e+18\n",
            "1000000000000000.0\n",
            "1000000000000.0\n",
            "1000000000.0\n",
            "1000000.0\n",
            "1000.0\n",
            "100.0\n",
            "10.0\n",
            "0.1\n",
            "0.01\n",
            "0.001\n",
            "1e-06\n",
            "1e-09\n",
            "1e-12\n",
            "1e-15\n",
            "1e-18\n",
            "1e-21\n"
          ]
        }
      ]
    },
    {
      "cell_type": "markdown",
      "source": [
        "*Binary Prefixes:*\n",
        "\n",
        "Return the specified unit in bytes (e.g. *kibi* returns *1024*)"
      ],
      "metadata": {
        "id": "Mmmbo90xu7r2"
      }
    },
    {
      "cell_type": "code",
      "source": [
        "print(constants.kibi)    #1024\n",
        "print(constants.mebi)    #1048576\n",
        "print(constants.gibi)    #1073741824\n",
        "print(constants.tebi)    #1099511627776\n",
        "print(constants.pebi)    #1125899906842624\n",
        "print(constants.exbi)    #1152921504606846976\n",
        "print(constants.zebi)    #1180591620717411303424\n",
        "print(constants.yobi)    #1208925819614629174706176"
      ],
      "metadata": {
        "colab": {
          "base_uri": "https://localhost:8080/"
        },
        "id": "DErmHf1LvIHy",
        "outputId": "414ab818-c293-491c-d298-6fc0a3f2eb72"
      },
      "execution_count": 7,
      "outputs": [
        {
          "output_type": "stream",
          "name": "stdout",
          "text": [
            "1024\n",
            "1048576\n",
            "1073741824\n",
            "1099511627776\n",
            "1125899906842624\n",
            "1152921504606846976\n",
            "1180591620717411303424\n",
            "1208925819614629174706176\n"
          ]
        }
      ]
    },
    {
      "cell_type": "markdown",
      "source": [
        "*Mass:*\n",
        "Return the specified unit in kg (e.g. *gram* returns *0.001*)"
      ],
      "metadata": {
        "id": "9kTvllEovMnB"
      }
    },
    {
      "cell_type": "code",
      "source": [
        "print(constants.gram)        #0.001\n",
        "print(constants.metric_ton)  #1000.0\n",
        "print(constants.grain)       #6.479891e-05\n",
        "print(constants.lb)          #0.45359236999999997\n",
        "print(constants.pound)       #0.45359236999999997\n",
        "print(constants.oz)          #0.028349523124999998\n",
        "print(constants.ounce)       #0.028349523124999998\n",
        "print(constants.stone)       #6.3502931799999995\n",
        "print(constants.long_ton)    #1016.0469088\n",
        "print(constants.short_ton)   #907.1847399999999\n",
        "print(constants.troy_ounce)  #0.031103476799999998\n",
        "print(constants.troy_pound)  #0.37324172159999996\n",
        "print(constants.carat)       #0.0002\n",
        "print(constants.atomic_mass) #1.66053904e-27\n",
        "print(constants.m_u)         #1.66053904e-27\n",
        "print(constants.u)           #1.66053904e-27"
      ],
      "metadata": {
        "colab": {
          "base_uri": "https://localhost:8080/"
        },
        "id": "aAo-hLMHvIwp",
        "outputId": "dfc86e90-00eb-450d-981e-05aed63fe40a"
      },
      "execution_count": 9,
      "outputs": [
        {
          "output_type": "stream",
          "name": "stdout",
          "text": [
            "0.001\n",
            "1000.0\n",
            "6.479891e-05\n",
            "0.45359236999999997\n",
            "0.45359236999999997\n",
            "0.028349523124999998\n",
            "0.028349523124999998\n",
            "6.3502931799999995\n",
            "1016.0469088\n",
            "907.1847399999999\n",
            "0.031103476799999998\n",
            "0.37324172159999996\n",
            "0.0002\n",
            "1.6605390666e-27\n",
            "1.6605390666e-27\n",
            "1.6605390666e-27\n"
          ]
        }
      ]
    },
    {
      "cell_type": "markdown",
      "source": [
        "*Angle:*\n",
        "Return the specified unit in radians (e.g. degree returns *0.017453292519943295*)"
      ],
      "metadata": {
        "id": "Yfwe9aaxvY1h"
      }
    },
    {
      "cell_type": "code",
      "source": [
        "print(constants.degree)     #0.017453292519943295\n",
        "print(constants.arcmin)     #0.0002908882086657216\n",
        "print(constants.arcminute)  #0.0002908882086657216\n",
        "print(constants.arcsec)     #4.84813681109536e-06\n",
        "print(constants.arcsecond)  #4.84813681109536e-06"
      ],
      "metadata": {
        "colab": {
          "base_uri": "https://localhost:8080/"
        },
        "id": "C4l1rnBfvWGV",
        "outputId": "8b3b67c7-a134-4dd1-fa86-e2b3d0f09b66"
      },
      "execution_count": 10,
      "outputs": [
        {
          "output_type": "stream",
          "name": "stdout",
          "text": [
            "0.017453292519943295\n",
            "0.0002908882086657216\n",
            "0.0002908882086657216\n",
            "4.84813681109536e-06\n",
            "4.84813681109536e-06\n"
          ]
        }
      ]
    },
    {
      "cell_type": "markdown",
      "source": [
        "*Time:*\n",
        "Return the specified unit in seconds (e.g. hour returns *3600.0*)"
      ],
      "metadata": {
        "id": "szz_quIQvj9O"
      }
    },
    {
      "cell_type": "code",
      "source": [
        "print(constants.minute)      #60.0\n",
        "print(constants.hour)        #3600.0\n",
        "print(constants.day)         #86400.0\n",
        "print(constants.week)        #604800.0\n",
        "print(constants.year)        #31536000.0\n",
        "print(constants.Julian_year) #31557600.0"
      ],
      "metadata": {
        "colab": {
          "base_uri": "https://localhost:8080/"
        },
        "id": "tN-yH1YRvh6T",
        "outputId": "b66f6dd4-a318-481b-b299-e0784128bc47"
      },
      "execution_count": 11,
      "outputs": [
        {
          "output_type": "stream",
          "name": "stdout",
          "text": [
            "60.0\n",
            "3600.0\n",
            "86400.0\n",
            "604800.0\n",
            "31536000.0\n",
            "31557600.0\n"
          ]
        }
      ]
    },
    {
      "cell_type": "markdown",
      "source": [
        "*Length:*\n",
        "Return the specified unit in meters (e.g. *nautical_mile* returns *1852.0*)"
      ],
      "metadata": {
        "id": "OySOJILNvt3u"
      }
    },
    {
      "cell_type": "code",
      "source": [
        "print(constants.inch)              #0.0254\n",
        "print(constants.foot)              #0.30479999999999996\n",
        "print(constants.yard)              #0.9143999999999999\n",
        "print(constants.mile)              #1609.3439999999998\n",
        "print(constants.mil)               #2.5399999999999997e-05\n",
        "print(constants.pt)                #0.00035277777777777776\n",
        "print(constants.point)             #0.00035277777777777776\n",
        "print(constants.survey_foot)       #0.3048006096012192\n",
        "print(constants.survey_mile)       #1609.3472186944373\n",
        "print(constants.nautical_mile)     #1852.0\n",
        "print(constants.fermi)             #1e-15\n",
        "print(constants.angstrom)          #1e-10\n",
        "print(constants.micron)            #1e-06\n",
        "print(constants.au)                #149597870691.0\n",
        "print(constants.astronomical_unit) #149597870691.0\n",
        "print(constants.light_year)        #9460730472580800.0\n",
        "print(constants.parsec)            #3.0856775813057292e+16"
      ],
      "metadata": {
        "colab": {
          "base_uri": "https://localhost:8080/"
        },
        "id": "Cghe8GOBvqvM",
        "outputId": "e5dbeb59-8704-48b2-f69d-13a72110e042"
      },
      "execution_count": 12,
      "outputs": [
        {
          "output_type": "stream",
          "name": "stdout",
          "text": [
            "0.0254\n",
            "0.30479999999999996\n",
            "0.9143999999999999\n",
            "1609.3439999999998\n",
            "2.5399999999999997e-05\n",
            "0.00035277777777777776\n",
            "0.00035277777777777776\n",
            "0.3048006096012192\n",
            "1609.3472186944373\n",
            "1852.0\n",
            "1e-15\n",
            "1e-10\n",
            "1e-06\n",
            "149597870700.0\n",
            "149597870700.0\n",
            "9460730472580800.0\n",
            "3.085677581491367e+16\n"
          ]
        }
      ]
    },
    {
      "cell_type": "markdown",
      "source": [
        "*Pressure:*\n",
        "Return the specified unit in pascals (e.g. *psi* returns *6894.757293168361*"
      ],
      "metadata": {
        "id": "XziNVelkv5MX"
      }
    },
    {
      "cell_type": "code",
      "source": [
        "print(constants.atm)         #101325.0\n",
        "print(constants.atmosphere)  #101325.0\n",
        "print(constants.bar)         #100000.0\n",
        "print(constants.torr)        #133.32236842105263\n",
        "print(constants.mmHg)        #133.32236842105263\n",
        "print(constants.psi)         #6894.757293168361"
      ],
      "metadata": {
        "colab": {
          "base_uri": "https://localhost:8080/"
        },
        "id": "mJ51aW3Dv2Ck",
        "outputId": "367c2327-e45f-4806-bd2e-dd1b2f32fba5"
      },
      "execution_count": 13,
      "outputs": [
        {
          "output_type": "stream",
          "name": "stdout",
          "text": [
            "101325.0\n",
            "101325.0\n",
            "100000.0\n",
            "133.32236842105263\n",
            "133.32236842105263\n",
            "6894.757293168361\n"
          ]
        }
      ]
    },
    {
      "cell_type": "markdown",
      "source": [
        "*Area:*\n",
        "Return the specified unit in square meters(e.g. *hectare* returns *10000.0*)"
      ],
      "metadata": {
        "id": "kpZnNONUwBKx"
      }
    },
    {
      "cell_type": "code",
      "source": [
        "print(constants.hectare) #10000.0\n",
        "print(constants.acre)    #4046.8564223999992"
      ],
      "metadata": {
        "colab": {
          "base_uri": "https://localhost:8080/"
        },
        "id": "rLSS0Uavv-0g",
        "outputId": "a002c194-7b7d-4a01-8a11-ef57ab917447"
      },
      "execution_count": 14,
      "outputs": [
        {
          "output_type": "stream",
          "name": "stdout",
          "text": [
            "10000.0\n",
            "4046.8564223999992\n"
          ]
        }
      ]
    },
    {
      "cell_type": "markdown",
      "source": [
        "*Volume:*\n",
        "Return the specified unit in cubic meters (e.g. *liter* returns *0.001*)"
      ],
      "metadata": {
        "id": "sHGg4OyxwOnO"
      }
    },
    {
      "cell_type": "code",
      "source": [
        "print(constants.liter)            #0.001\n",
        "print(constants.litre)            #0.001\n",
        "print(constants.gallon)           #0.0037854117839999997\n",
        "print(constants.gallon_US)        #0.0037854117839999997\n",
        "print(constants.gallon_imp)       #0.00454609\n",
        "print(constants.fluid_ounce)      #2.9573529562499998e-05\n",
        "print(constants.fluid_ounce_US)   #2.9573529562499998e-05\n",
        "print(constants.fluid_ounce_imp)  #2.84130625e-05\n",
        "print(constants.barrel)           #0.15898729492799998\n",
        "print(constants.bbl)              #0.15898729492799998"
      ],
      "metadata": {
        "colab": {
          "base_uri": "https://localhost:8080/"
        },
        "id": "zVXRjjD0wJAZ",
        "outputId": "8d6b80ed-012c-4e2d-ba74-c53ca95cab96"
      },
      "execution_count": 15,
      "outputs": [
        {
          "output_type": "stream",
          "name": "stdout",
          "text": [
            "0.001\n",
            "0.001\n",
            "0.0037854117839999997\n",
            "0.0037854117839999997\n",
            "0.00454609\n",
            "2.9573529562499998e-05\n",
            "2.9573529562499998e-05\n",
            "2.84130625e-05\n",
            "0.15898729492799998\n",
            "0.15898729492799998\n"
          ]
        }
      ]
    },
    {
      "cell_type": "markdown",
      "source": [
        "*Speed:*\n",
        "Return the specified unit in meters per second (e.g. *speed_of_sound* returns *340.5*)"
      ],
      "metadata": {
        "id": "wUHgB6wzwcDj"
      }
    },
    {
      "cell_type": "code",
      "source": [
        "print(constants.kmh)            #0.2777777777777778\n",
        "print(constants.mph)            #0.44703999999999994\n",
        "print(constants.mach)           #340.5\n",
        "print(constants.speed_of_sound) #340.5\n",
        "print(constants.knot)           #0.5144444444444445"
      ],
      "metadata": {
        "colab": {
          "base_uri": "https://localhost:8080/"
        },
        "id": "q4qmC4I4wjnY",
        "outputId": "ff44865f-66a5-4d6e-c829-d6dfd78787c5"
      },
      "execution_count": 16,
      "outputs": [
        {
          "output_type": "stream",
          "name": "stdout",
          "text": [
            "0.2777777777777778\n",
            "0.44703999999999994\n",
            "340.5\n",
            "340.5\n",
            "0.5144444444444445\n"
          ]
        }
      ]
    },
    {
      "cell_type": "markdown",
      "source": [
        "*Temperature:*\n",
        "Return the specified unit in Kelvin (e.g. *zero_Celsius* returns *273.15*)"
      ],
      "metadata": {
        "id": "d427ZhxDwo37"
      }
    },
    {
      "cell_type": "code",
      "source": [
        "print(constants.zero_Celsius)      #273.15\n",
        "print(constants.degree_Fahrenheit) #0.5555555555555556"
      ],
      "metadata": {
        "colab": {
          "base_uri": "https://localhost:8080/"
        },
        "id": "SOWNBYyswkUo",
        "outputId": "3ca7cf01-207d-4953-f61a-1917bca6d0fa"
      },
      "execution_count": 17,
      "outputs": [
        {
          "output_type": "stream",
          "name": "stdout",
          "text": [
            "273.15\n",
            "0.5555555555555556\n"
          ]
        }
      ]
    },
    {
      "cell_type": "markdown",
      "source": [
        "*Energy:*\n",
        "Return the specified unit in joules (e.g. *calorie* returns *4.184*)"
      ],
      "metadata": {
        "id": "LXuBf3Xbw0dx"
      }
    },
    {
      "cell_type": "code",
      "source": [
        "print(constants.eV)            #1.6021766208e-19\n",
        "print(constants.electron_volt) #1.6021766208e-19\n",
        "print(constants.calorie)       #4.184\n",
        "print(constants.calorie_th)    #4.184\n",
        "print(constants.calorie_IT)    #4.1868\n",
        "print(constants.erg)           #1e-07\n",
        "print(constants.Btu)           #1055.05585262\n",
        "print(constants.Btu_IT)        #1055.05585262\n",
        "print(constants.Btu_th)        #1054.3502644888888\n",
        "print(constants.ton_TNT)       #4184000000.0"
      ],
      "metadata": {
        "colab": {
          "base_uri": "https://localhost:8080/"
        },
        "id": "rOYRjDUUw4b8",
        "outputId": "93b361c8-1030-4746-ea66-09d8d6fc212c"
      },
      "execution_count": 18,
      "outputs": [
        {
          "output_type": "stream",
          "name": "stdout",
          "text": [
            "1.602176634e-19\n",
            "1.602176634e-19\n",
            "4.184\n",
            "4.184\n",
            "4.1868\n",
            "1e-07\n",
            "1055.05585262\n",
            "1055.05585262\n",
            "1054.3502644888888\n",
            "4184000000.0\n"
          ]
        }
      ]
    },
    {
      "cell_type": "markdown",
      "source": [
        "*Power:*\n",
        "Return the specified unit in watts (e.g. *horsepower* returns *745.6998715822701*)"
      ],
      "metadata": {
        "id": "U2i_QQsBxAiK"
      }
    },
    {
      "cell_type": "code",
      "source": [
        "print(constants.hp)         #745.6998715822701\n",
        "print(constants.horsepower) #745.6998715822701"
      ],
      "metadata": {
        "colab": {
          "base_uri": "https://localhost:8080/"
        },
        "id": "kXtoAsavw7Cr",
        "outputId": "345bcd2e-34ce-49cd-d598-df3d4bbb8752"
      },
      "execution_count": 19,
      "outputs": [
        {
          "output_type": "stream",
          "name": "stdout",
          "text": [
            "745.6998715822701\n",
            "745.6998715822701\n"
          ]
        }
      ]
    },
    {
      "cell_type": "markdown",
      "source": [
        "*Force:*\n",
        "Return the specified unit in newton (e.g. *kilogram_force* returns *9.80665*)"
      ],
      "metadata": {
        "id": "cTEZhLV1xR9r"
      }
    },
    {
      "cell_type": "code",
      "source": [
        "print(constants.dyn)             #1e-05\n",
        "print(constants.dyne)            #1e-05\n",
        "print(constants.lbf)             #4.4482216152605\n",
        "print(constants.pound_force)     #4.4482216152605\n",
        "print(constants.kgf)             #9.80665\n",
        "print(constants.kilogram_force)  #9.80665"
      ],
      "metadata": {
        "colab": {
          "base_uri": "https://localhost:8080/"
        },
        "id": "wOAzz69FxP7l",
        "outputId": "67dbd2f9-b129-4225-e25f-f7817e3e673f"
      },
      "execution_count": 21,
      "outputs": [
        {
          "output_type": "stream",
          "name": "stdout",
          "text": [
            "1e-05\n",
            "1e-05\n",
            "4.4482216152605\n",
            "4.4482216152605\n",
            "9.80665\n",
            "9.80665\n"
          ]
        }
      ]
    }
  ]
}