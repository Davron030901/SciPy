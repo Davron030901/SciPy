{
  "nbformat": 4,
  "nbformat_minor": 0,
  "metadata": {
    "colab": {
      "provenance": [],
      "authorship_tag": "ABX9TyMjYxJYhElBwjzI2FPtE+oz",
      "include_colab_link": true
    },
    "kernelspec": {
      "name": "python3",
      "display_name": "Python 3"
    },
    "language_info": {
      "name": "python"
    }
  },
  "cells": [
    {
      "cell_type": "markdown",
      "metadata": {
        "id": "view-in-github",
        "colab_type": "text"
      },
      "source": [
        "<a href=\"https://colab.research.google.com/github/Davron030901/SciPy/blob/main/8_SciPy_Statistical_Significance_Tests.ipynb\" target=\"_parent\"><img src=\"https://colab.research.google.com/assets/colab-badge.svg\" alt=\"Open In Colab\"/></a>"
      ]
    },
    {
      "cell_type": "markdown",
      "source": [
        "In statistics, statistical significance means that the result that was produced has a reason behind it, it was not produced randomly, or by chance.\n",
        "\n",
        "SciPy provides us with a module called scipy.stats, which has functions for performing statistical significance tests.\n",
        "\n",
        "Here are some techniques and keywords that are important when performing such tests:\n",
        "\n",
        "**Hypothesis in Statistics**\n",
        "\n",
        "Hypothesis is an assumption about a parameter in population.\n",
        "\n",
        "*Null Hypothesis*\n",
        "It assumes that the observation is not statistically significant.\n",
        "\n",
        "*Alternate Hypothesis*\n",
        "It assumes that the observations are due to some reason.\n",
        "\n",
        "It's alternate to Null Hypothesis.\n",
        "\n",
        "Example:\n",
        "\n",
        "For an assessment of a student we would take:\n",
        "\n",
        "\"student is worse than average\" - as a null hypothesis, and:\n",
        "\n",
        "\"student is better than average\" - as an alternate hypothesis.\n",
        "\n",
        "*One tailed test*\n",
        "When our hypothesis is testing for one side of the value only, it is called \"one tailed test\".\n",
        "\n",
        "Example:\n",
        "\n",
        "For the null hypothesis:\n",
        "\n",
        "\"the mean is equal to k\", we can have alternate hypothesis:\n",
        "\n",
        "\"the mean is less than k\", or:\n",
        "\n",
        "\"the mean is greater than k\"\n",
        "\n",
        "*Two tailed test*\n",
        "When our hypothesis is testing for both side of the values.\n",
        "\n",
        "Example:\n",
        "\n",
        "For the null hypothesis:\n",
        "\n",
        "\"the mean is equal to k\", we can have alternate hypothesis:\n",
        "\n",
        "\"the mean is not equal to k\"\n",
        "\n",
        "In this case the mean is less than, or greater than k, and both sides are to be checked.\n",
        "\n",
        "**Alpha value**\n",
        "\n",
        "Alpha value is the level of significance.\n",
        "\n",
        "Example:\n",
        "\n",
        "How close to extremes the data must be for null hypothesis to be rejected.\n",
        "\n",
        "It is usually taken as 0.01, 0.05, or 0.1.\n",
        "\n",
        "**P value**\n",
        "\n",
        "P value tells how close to extreme the data actually is.\n",
        "\n",
        "P value and alpha values are compared to establish the statistical significance.\n",
        "\n",
        "If p value <= alpha we reject the null hypothesis and say that the data is statistically significant. otherwise we accept the null hypothesis.\n",
        "\n",
        "**T-Test**\n",
        "\n",
        "T-tests are used to determine if there is significant deference between means of two variables and lets us know if they belong to the same distribution.\n",
        "\n",
        "It is a two tailed test.\n",
        "\n",
        "The function *ttest_ind()* takes two samples of same size and produces a tuple of t-statistic and p-value."
      ],
      "metadata": {
        "id": "U6NXrDAeXuNf"
      }
    },
    {
      "cell_type": "code",
      "execution_count": 1,
      "metadata": {
        "id": "md4IdCL1W9tF",
        "colab": {
          "base_uri": "https://localhost:8080/"
        },
        "outputId": "49131a01-9e9a-4b9a-e006-47e13ddf3320"
      },
      "outputs": [
        {
          "output_type": "stream",
          "name": "stdout",
          "text": [
            "TtestResult(statistic=2.0364671229110156, pvalue=0.043034930761845565, df=198.0)\n"
          ]
        }
      ],
      "source": [
        "import numpy as np\n",
        "from scipy.stats import ttest_ind\n",
        "\n",
        "v1 = np.random.normal(size=100)\n",
        "v2 = np.random.normal(size=100)\n",
        "\n",
        "res = ttest_ind(v1, v2)\n",
        "\n",
        "print(res)"
      ]
    },
    {
      "cell_type": "markdown",
      "source": [
        "If you want to return only the p-value, use the pvalue property:"
      ],
      "metadata": {
        "id": "TUuvVumfYX2Q"
      }
    },
    {
      "cell_type": "code",
      "source": [
        "res = ttest_ind(v1, v2).pvalue\n",
        "\n",
        "print(res)"
      ],
      "metadata": {
        "id": "v41YGiOQYUxE",
        "colab": {
          "base_uri": "https://localhost:8080/"
        },
        "outputId": "e4128d8d-729e-47a8-943f-75f975e3203d"
      },
      "execution_count": 2,
      "outputs": [
        {
          "output_type": "stream",
          "name": "stdout",
          "text": [
            "0.043034930761845565\n"
          ]
        }
      ]
    },
    {
      "cell_type": "markdown",
      "source": [
        "**KS-Test**\n",
        "\n",
        "KS test is used to check if given values follow a distribution.\n",
        "\n",
        "The function takes the value to be tested, and the CDF as two parameters.\n",
        "\n",
        "A CDF can be either a string or a callable function that returns the probability.\n",
        "\n",
        "It can be used as a one tailed or two tailed test.\n",
        "\n",
        "By default it is two tailed. We can pass parameter alternative as a string of one of two-sided, less, or greater."
      ],
      "metadata": {
        "id": "id8bIOIrYqNZ"
      }
    },
    {
      "cell_type": "code",
      "source": [
        "import numpy as np\n",
        "from scipy.stats import kstest\n",
        "\n",
        "v = np.random.normal(size=100)\n",
        "\n",
        "res = kstest(v, 'norm')\n",
        "\n",
        "print(res)"
      ],
      "metadata": {
        "id": "OKbZtJqOYbIE",
        "colab": {
          "base_uri": "https://localhost:8080/"
        },
        "outputId": "1e3b99ad-921a-40fb-8a88-88f04edcf4a8"
      },
      "execution_count": 3,
      "outputs": [
        {
          "output_type": "stream",
          "name": "stdout",
          "text": [
            "KstestResult(statistic=0.12515703450957322, pvalue=0.0798590538210029, statistic_location=-0.16405743333948347, statistic_sign=1)\n"
          ]
        }
      ]
    },
    {
      "cell_type": "markdown",
      "source": [
        "**Statistical Description of Data**\n",
        "\n",
        "In order to see a summary of values in an array, we can use the *describe()* function.\n",
        "\n",
        "It returns the following description:\n",
        "\n",
        "number of observations (nobs)\n",
        "minimum and maximum values = minmax\n",
        "mean\n",
        "variance\n",
        "skewness\n",
        "kurtosis"
      ],
      "metadata": {
        "id": "8jGoLyIxY9AZ"
      }
    },
    {
      "cell_type": "code",
      "source": [
        "import numpy as np\n",
        "from scipy.stats import describe\n",
        "\n",
        "v = np.random.normal(size=100)\n",
        "res = describe(v)\n",
        "\n",
        "print(res)"
      ],
      "metadata": {
        "id": "vKm49wJqZLUd",
        "colab": {
          "base_uri": "https://localhost:8080/"
        },
        "outputId": "13dc6659-dce0-4263-b669-c149347dfb2b"
      },
      "execution_count": 4,
      "outputs": [
        {
          "output_type": "stream",
          "name": "stdout",
          "text": [
            "DescribeResult(nobs=100, minmax=(-2.910175659287632, 2.7446102927913767), mean=0.16288371696952633, variance=1.052301773821119, skewness=-0.04153965458826508, kurtosis=-0.10528551963985855)\n"
          ]
        }
      ]
    },
    {
      "cell_type": "markdown",
      "source": [
        "**Normality Tests (Skewness and Kurtosis)**\n",
        "\n",
        "Normality tests are based on the skewness and kurtosis.\n",
        "\n",
        "The *normaltest()* function returns p value for the null hypothesis:\n",
        "\n",
        "\"x comes from a normal distribution\".\n",
        "\n",
        "*Skewness:*\n",
        "A measure of symmetry in data.\n",
        "\n",
        "For normal distributions it is 0.\n",
        "\n",
        "If it is negative, it means the data is skewed left.\n",
        "\n",
        "If it is positive it means the data is skewed right.\n",
        "\n",
        "*Kurtosis:*\n",
        "A measure of whether the data is heavy or lightly tailed to a normal distribution.\n",
        "\n",
        "Positive kurtosis means heavy tailed.\n",
        "\n",
        "Negative kurtosis means lightly tailed.\n",
        "\n"
      ],
      "metadata": {
        "id": "EORvKnJ9Zcvg"
      }
    },
    {
      "cell_type": "code",
      "source": [
        "import numpy as np\n",
        "from scipy.stats import skew, kurtosis\n",
        "\n",
        "v = np.random.normal(size=100)\n",
        "\n",
        "print(skew(v))\n",
        "print(kurtosis(v))"
      ],
      "metadata": {
        "id": "Gc39Ro0EZpIx",
        "colab": {
          "base_uri": "https://localhost:8080/"
        },
        "outputId": "ca8a112b-fdce-4ad3-92e0-5b1bb8e841e1"
      },
      "execution_count": 5,
      "outputs": [
        {
          "output_type": "stream",
          "name": "stdout",
          "text": [
            "0.09181956549548065\n",
            "-0.4279441464647804\n"
          ]
        }
      ]
    },
    {
      "cell_type": "code",
      "source": [
        "import numpy as np\n",
        "from scipy.stats import normaltest\n",
        "\n",
        "v = np.random.normal(size=100)\n",
        "\n",
        "print(normaltest(v))"
      ],
      "metadata": {
        "id": "uExMqqR6Zp6h",
        "colab": {
          "base_uri": "https://localhost:8080/"
        },
        "outputId": "091e5430-42d6-4a71-fe41-b8a222bc9c9d"
      },
      "execution_count": 6,
      "outputs": [
        {
          "output_type": "stream",
          "name": "stdout",
          "text": [
            "NormaltestResult(statistic=0.893742497235438, pvalue=0.6396262557380819)\n"
          ]
        }
      ]
    }
  ]
}